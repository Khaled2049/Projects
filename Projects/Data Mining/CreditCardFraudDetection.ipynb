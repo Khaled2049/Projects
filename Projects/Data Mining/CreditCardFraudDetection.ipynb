{
 "cells": [
  {
   "cell_type": "code",
   "execution_count": 34,
   "metadata": {},
   "outputs": [],
   "source": [
    "\"\"\"\n",
    "Filename:- CreditCardFraudDetection.ipynb\n",
    "CSC535 Final project\n",
    "Coded By:-\n",
    "Shannon Groth\n",
    "Khaled Hossain\n",
    "Mohammed Alduris\n",
    "\"\"\""
   ]
  },
  {
   "cell_type": "code",
   "execution_count": null,
   "metadata": {},
   "outputs": [],
   "source": [
    "import numpy as np\n",
    "import pandas as pd\n",
    "import seaborn as sns\n",
    "import matplotlib.pyplot as plt\n",
    "from sklearn import datasets\n",
    "from sklearn.neighbors import KNeighborsClassifier\n",
    "from sklearn.preprocessing import StandardScaler\n",
    "from sklearn.model_selection import train_test_split\n",
    "from sklearn.metrics import classification_report, confusion_matrix\n",
    "from sklearn.metrics import roc_auc_score\n",
    "from sklearn.metrics import average_precision_score\n",
    "from sklearn.metrics import precision_recall_curve\n",
    "from sklearn.metrics import precision_score\n",
    "\n",
    "data = pd.read_csv('creditcard.csv')"
   ]
  },
  {
   "cell_type": "code",
   "execution_count": 12,
   "metadata": {},
   "outputs": [
    {
     "data": {
      "text/html": [
       "<div>\n",
       "<style scoped>\n",
       "    .dataframe tbody tr th:only-of-type {\n",
       "        vertical-align: middle;\n",
       "    }\n",
       "\n",
       "    .dataframe tbody tr th {\n",
       "        vertical-align: top;\n",
       "    }\n",
       "\n",
       "    .dataframe thead th {\n",
       "        text-align: right;\n",
       "    }\n",
       "</style>\n",
       "<table border=\"1\" class=\"dataframe\">\n",
       "  <thead>\n",
       "    <tr style=\"text-align: right;\">\n",
       "      <th></th>\n",
       "      <th>Time</th>\n",
       "      <th>V1</th>\n",
       "      <th>V2</th>\n",
       "      <th>V3</th>\n",
       "      <th>V4</th>\n",
       "      <th>V5</th>\n",
       "      <th>V6</th>\n",
       "      <th>V7</th>\n",
       "      <th>V8</th>\n",
       "      <th>V9</th>\n",
       "      <th>...</th>\n",
       "      <th>V21</th>\n",
       "      <th>V22</th>\n",
       "      <th>V23</th>\n",
       "      <th>V24</th>\n",
       "      <th>V25</th>\n",
       "      <th>V26</th>\n",
       "      <th>V27</th>\n",
       "      <th>V28</th>\n",
       "      <th>Amount</th>\n",
       "      <th>Class</th>\n",
       "    </tr>\n",
       "  </thead>\n",
       "  <tbody>\n",
       "    <tr>\n",
       "      <th>179998</th>\n",
       "      <td>124333.0</td>\n",
       "      <td>-0.928194</td>\n",
       "      <td>0.738480</td>\n",
       "      <td>-0.032193</td>\n",
       "      <td>-0.320081</td>\n",
       "      <td>0.279276</td>\n",
       "      <td>-0.263373</td>\n",
       "      <td>0.389675</td>\n",
       "      <td>0.473972</td>\n",
       "      <td>0.111281</td>\n",
       "      <td>...</td>\n",
       "      <td>0.233183</td>\n",
       "      <td>0.822285</td>\n",
       "      <td>-0.196748</td>\n",
       "      <td>-0.441139</td>\n",
       "      <td>-0.052402</td>\n",
       "      <td>-0.120705</td>\n",
       "      <td>0.183889</td>\n",
       "      <td>0.144778</td>\n",
       "      <td>29.99</td>\n",
       "      <td>0</td>\n",
       "    </tr>\n",
       "    <tr>\n",
       "      <th>255073</th>\n",
       "      <td>157054.0</td>\n",
       "      <td>-0.623637</td>\n",
       "      <td>0.390129</td>\n",
       "      <td>0.738396</td>\n",
       "      <td>0.865550</td>\n",
       "      <td>1.225422</td>\n",
       "      <td>0.139376</td>\n",
       "      <td>0.818535</td>\n",
       "      <td>-0.201388</td>\n",
       "      <td>0.280222</td>\n",
       "      <td>...</td>\n",
       "      <td>0.087562</td>\n",
       "      <td>0.907710</td>\n",
       "      <td>-0.234744</td>\n",
       "      <td>0.702330</td>\n",
       "      <td>-0.135880</td>\n",
       "      <td>-0.443118</td>\n",
       "      <td>0.217983</td>\n",
       "      <td>-0.054551</td>\n",
       "      <td>28.00</td>\n",
       "      <td>0</td>\n",
       "    </tr>\n",
       "    <tr>\n",
       "      <th>6545</th>\n",
       "      <td>7926.0</td>\n",
       "      <td>1.376331</td>\n",
       "      <td>-0.562092</td>\n",
       "      <td>0.507086</td>\n",
       "      <td>-0.434519</td>\n",
       "      <td>-0.890864</td>\n",
       "      <td>-0.276486</td>\n",
       "      <td>-0.815210</td>\n",
       "      <td>-0.029039</td>\n",
       "      <td>0.741348</td>\n",
       "      <td>...</td>\n",
       "      <td>-0.152492</td>\n",
       "      <td>-0.177956</td>\n",
       "      <td>-0.063812</td>\n",
       "      <td>-0.048406</td>\n",
       "      <td>0.518384</td>\n",
       "      <td>-0.277060</td>\n",
       "      <td>-0.023056</td>\n",
       "      <td>-0.008562</td>\n",
       "      <td>10.00</td>\n",
       "      <td>0</td>\n",
       "    </tr>\n",
       "    <tr>\n",
       "      <th>201978</th>\n",
       "      <td>134120.0</td>\n",
       "      <td>1.983298</td>\n",
       "      <td>-0.038825</td>\n",
       "      <td>-1.784943</td>\n",
       "      <td>0.309318</td>\n",
       "      <td>0.208418</td>\n",
       "      <td>-0.805712</td>\n",
       "      <td>-0.007913</td>\n",
       "      <td>-0.084251</td>\n",
       "      <td>0.888829</td>\n",
       "      <td>...</td>\n",
       "      <td>-0.229502</td>\n",
       "      <td>-0.482335</td>\n",
       "      <td>0.122388</td>\n",
       "      <td>-0.552185</td>\n",
       "      <td>-0.068872</td>\n",
       "      <td>-0.082761</td>\n",
       "      <td>-0.015593</td>\n",
       "      <td>-0.031745</td>\n",
       "      <td>20.39</td>\n",
       "      <td>0</td>\n",
       "    </tr>\n",
       "    <tr>\n",
       "      <th>268893</th>\n",
       "      <td>163435.0</td>\n",
       "      <td>-0.805038</td>\n",
       "      <td>0.585762</td>\n",
       "      <td>-0.090319</td>\n",
       "      <td>0.310244</td>\n",
       "      <td>0.205206</td>\n",
       "      <td>-0.464729</td>\n",
       "      <td>0.145778</td>\n",
       "      <td>0.499457</td>\n",
       "      <td>0.566135</td>\n",
       "      <td>...</td>\n",
       "      <td>0.310020</td>\n",
       "      <td>1.106403</td>\n",
       "      <td>-0.218447</td>\n",
       "      <td>1.072931</td>\n",
       "      <td>0.419607</td>\n",
       "      <td>0.080625</td>\n",
       "      <td>0.218752</td>\n",
       "      <td>0.015007</td>\n",
       "      <td>49.16</td>\n",
       "      <td>0</td>\n",
       "    </tr>\n",
       "  </tbody>\n",
       "</table>\n",
       "<p>5 rows × 31 columns</p>\n",
       "</div>"
      ],
      "text/plain": [
       "            Time        V1        V2        V3        V4        V5        V6  \\\n",
       "179998  124333.0 -0.928194  0.738480 -0.032193 -0.320081  0.279276 -0.263373   \n",
       "255073  157054.0 -0.623637  0.390129  0.738396  0.865550  1.225422  0.139376   \n",
       "6545      7926.0  1.376331 -0.562092  0.507086 -0.434519 -0.890864 -0.276486   \n",
       "201978  134120.0  1.983298 -0.038825 -1.784943  0.309318  0.208418 -0.805712   \n",
       "268893  163435.0 -0.805038  0.585762 -0.090319  0.310244  0.205206 -0.464729   \n",
       "\n",
       "              V7        V8        V9  ...       V21       V22       V23  \\\n",
       "179998  0.389675  0.473972  0.111281  ...  0.233183  0.822285 -0.196748   \n",
       "255073  0.818535 -0.201388  0.280222  ...  0.087562  0.907710 -0.234744   \n",
       "6545   -0.815210 -0.029039  0.741348  ... -0.152492 -0.177956 -0.063812   \n",
       "201978 -0.007913 -0.084251  0.888829  ... -0.229502 -0.482335  0.122388   \n",
       "268893  0.145778  0.499457  0.566135  ...  0.310020  1.106403 -0.218447   \n",
       "\n",
       "             V24       V25       V26       V27       V28  Amount  Class  \n",
       "179998 -0.441139 -0.052402 -0.120705  0.183889  0.144778   29.99      0  \n",
       "255073  0.702330 -0.135880 -0.443118  0.217983 -0.054551   28.00      0  \n",
       "6545   -0.048406  0.518384 -0.277060 -0.023056 -0.008562   10.00      0  \n",
       "201978 -0.552185 -0.068872 -0.082761 -0.015593 -0.031745   20.39      0  \n",
       "268893  1.072931  0.419607  0.080625  0.218752  0.015007   49.16      0  \n",
       "\n",
       "[5 rows x 31 columns]"
      ]
     },
     "execution_count": 12,
     "metadata": {},
     "output_type": "execute_result"
    }
   ],
   "source": [
    "sampleData = data.sample(frac=0.5)\n",
    "sampleData.head()"
   ]
  },
  {
   "cell_type": "code",
   "execution_count": 13,
   "metadata": {},
   "outputs": [
    {
     "data": {
      "text/plain": [
       "Time      142404\n",
       "V1        142404\n",
       "V2        142404\n",
       "V3        142404\n",
       "V4        142404\n",
       "V5        142404\n",
       "V6        142404\n",
       "V7        142404\n",
       "V8        142404\n",
       "V9        142404\n",
       "V10       142404\n",
       "V11       142404\n",
       "V12       142404\n",
       "V13       142404\n",
       "V14       142404\n",
       "V15       142404\n",
       "V16       142404\n",
       "V17       142404\n",
       "V18       142404\n",
       "V19       142404\n",
       "V20       142404\n",
       "V21       142404\n",
       "V22       142404\n",
       "V23       142404\n",
       "V24       142404\n",
       "V25       142404\n",
       "V26       142404\n",
       "V27       142404\n",
       "V28       142404\n",
       "Amount    142404\n",
       "Class     142404\n",
       "dtype: int64"
      ]
     },
     "execution_count": 13,
     "metadata": {},
     "output_type": "execute_result"
    }
   ],
   "source": [
    "sampleData.count()"
   ]
  },
  {
   "cell_type": "code",
   "execution_count": 14,
   "metadata": {},
   "outputs": [
    {
     "data": {
      "text/plain": [
       "V1        142404\n",
       "V2        142404\n",
       "V3        142404\n",
       "V4        142404\n",
       "V5        142404\n",
       "V6        142404\n",
       "V7        142404\n",
       "V8        142404\n",
       "V9        142404\n",
       "V10       142404\n",
       "V11       142404\n",
       "V12       142404\n",
       "V13       142404\n",
       "V14       142404\n",
       "V15       142404\n",
       "V16       142404\n",
       "V17       142404\n",
       "V18       142404\n",
       "V19       142404\n",
       "V20       142404\n",
       "V21       142404\n",
       "V22       142404\n",
       "V23       142404\n",
       "V24       142404\n",
       "V25       142404\n",
       "V26       142404\n",
       "V27       142404\n",
       "V28       142404\n",
       "Amount    142404\n",
       "Class     142404\n",
       "dtype: int64"
      ]
     },
     "execution_count": 14,
     "metadata": {},
     "output_type": "execute_result"
    }
   ],
   "source": [
    "sampleData = sampleData.drop(['Time'], axis = 1)\n",
    "sampleData.count()"
   ]
  },
  {
   "cell_type": "code",
   "execution_count": 15,
   "metadata": {},
   "outputs": [
    {
     "data": {
      "text/plain": [
       "False"
      ]
     },
     "execution_count": 15,
     "metadata": {},
     "output_type": "execute_result"
    }
   ],
   "source": [
    "sampleData.empty"
   ]
  },
  {
   "cell_type": "code",
   "execution_count": 16,
   "metadata": {},
   "outputs": [
    {
     "data": {
      "text/plain": [
       "array([0, 1])"
      ]
     },
     "execution_count": 16,
     "metadata": {},
     "output_type": "execute_result"
    }
   ],
   "source": [
    "y = sampleData.Class\n",
    "y.unique()"
   ]
  },
  {
   "cell_type": "code",
   "execution_count": 17,
   "metadata": {},
   "outputs": [
    {
     "data": {
      "text/plain": [
       "<matplotlib.axes._subplots.AxesSubplot at 0x7fcb806e8550>"
      ]
     },
     "execution_count": 17,
     "metadata": {},
     "output_type": "execute_result"
    },
    {
     "data": {
      "image/png": "[encoded data removed]",
      "text/plain": [
       "<Figure size 432x288 with 1 Axes>"
      ]
     },
     "metadata": {
      "needs_background": "light"
     },
     "output_type": "display_data"
    }
   ],
   "source": [
    "sampleData['Class'].hist()"
   ]
  },
  {
   "cell_type": "code",
   "execution_count": 18,
   "metadata": {},
   "outputs": [
    {
     "data": {
      "image/png": "[encoded data removed]",
      "text/plain": [
       "<Figure size 1008x720 with 2 Axes>"
      ]
     },
     "metadata": {
      "needs_background": "light"
     },
     "output_type": "display_data"
    }
   ],
   "source": [
    "# from the heat map we can see that the features do not correleate to\n",
    "# with other features.\n",
    "corrmat = sampleData.corr()\n",
    "fig = plt.figure(figsize = (14, 10)) \n",
    "sns.heatmap(corrmat, vmax = 0.8) \n",
    "plt.show() "
   ]
  },
  {
   "cell_type": "code",
   "execution_count": 19,
   "metadata": {},
   "outputs": [
    {
     "name": "stdout",
     "output_type": "stream",
     "text": [
      "(106803,)\n",
      "(35601,)\n",
      "(106803, 30)\n",
      "(35601, 30)\n"
     ]
    }
   ],
   "source": [
    "X_train, X_test, y_train, y_test = train_test_split(sampleData, y, test_size=0.25, random_state=1)\n",
    "print(y_train.shape)\n",
    "print(y_test.shape)\n",
    "print(X_train.shape)\n",
    "print(X_test.shape)"
   ]
  },
  {
   "cell_type": "code",
   "execution_count": 20,
   "metadata": {},
   "outputs": [
    {
     "name": "stdout",
     "output_type": "stream",
     "text": [
      "Fraudulent transactions:  492\n",
      "Legitimate transactions:  284315\n"
     ]
    }
   ],
   "source": [
    "# see the total number of fradulent transactions vs legitimate transactions\n",
    "fraud = sampleData[sampleData['Class'] == 1] \n",
    "legitimate = sampleData[sampleData['Class'] == 0] \n",
    "\n",
    "print('Fraudulent transactions: ', len(data[data['Class'] == 1]))\n",
    "print('Legitimate transactions: ', len(data[data['Class'] == 0]))"
   ]
  },
  {
   "cell_type": "code",
   "execution_count": 21,
   "metadata": {},
   "outputs": [
    {
     "data": {
      "text/plain": [
       "count     253.000000\n",
       "mean      125.013399\n",
       "std       247.961028\n",
       "min         0.000000\n",
       "25%         1.000000\n",
       "50%        11.390000\n",
       "75%       113.920000\n",
       "max      1809.680000\n",
       "Name: Amount, dtype: float64"
      ]
     },
     "execution_count": 21,
     "metadata": {},
     "output_type": "execute_result"
    }
   ],
   "source": [
    "# Get an idea of the type of Fraudulent transactions\n",
    "fraud['Amount'].describe() "
   ]
  },
  {
   "cell_type": "code",
   "execution_count": 22,
   "metadata": {},
   "outputs": [
    {
     "name": "stdout",
     "output_type": "stream",
     "text": [
      "Number of K Nearest Neighbors Classifier mislabeled points out of a total 35601 points : 27\n"
     ]
    }
   ],
   "source": [
    "### K-Nearest Neighbors Classifier\n",
    "\n",
    "knn = KNeighborsClassifier(n_neighbors=5, weights='distance')\n",
    "knn.fit(X_train, y_train)\n",
    "y_pred = knn.predict(X_test)\n",
    "#print(classification_report(y_test, y_pred))\n",
    "print(\"Number of K Nearest Neighbors Classifier mislabeled points out of a total %d points : %d\" % (X_test.shape[0], (y_test != y_pred).sum()))\n",
    "precision, recall, thresholds = precision_recall_curve(y_test, y_pred)"
   ]
  },
  {
   "cell_type": "code",
   "execution_count": 23,
   "metadata": {},
   "outputs": [
    {
     "name": "stdout",
     "output_type": "stream",
     "text": [
      "[0.00193815 0.90384615 1.        ]\n",
      "[1.         0.68115942 0.        ]\n",
      "[0 1]\n"
     ]
    }
   ],
   "source": [
    "print(precision)\n",
    "print(recall)\n",
    "print(thresholds)"
   ]
  },
  {
   "cell_type": "code",
   "execution_count": 24,
   "metadata": {},
   "outputs": [
    {
     "data": {
      "image/png": "[encoded data removed]",
      "text/plain": [
       "<Figure size 432x288 with 1 Axes>"
      ]
     },
     "metadata": {
      "needs_background": "light"
     },
     "output_type": "display_data"
    },
    {
     "data": {
      "text/plain": [
       "<Figure size 432x288 with 0 Axes>"
      ]
     },
     "metadata": {},
     "output_type": "display_data"
    }
   ],
   "source": [
    "knnplot = plt.title(\"K Nearest Neighbors Classifier\")\n",
    "knnplot = plt.xlabel(\"Specificity\")\n",
    "knnplot = plt.ylabel(\"Sensitivity\")\n",
    "knnroc = roc_auc_score(y_test, y_pred)\n",
    "knnplot = plt.text(0.1, 0.1, \"The AUC Score is {}\".format(knnroc))\n",
    "knnplot = plt.plot (precision, recall)\n",
    "knnplot = plt.figure()"
   ]
  },
  {
   "cell_type": "code",
   "execution_count": 25,
   "metadata": {},
   "outputs": [
    {
     "name": "stdout",
     "output_type": "stream",
     "text": [
      "The K Nearest Neighbors Classifier ROC AUC Score is:  0.8405093510320152\n"
     ]
    }
   ],
   "source": [
    "print(\"The K Nearest Neighbors Classifier ROC AUC Score is: \", roc_auc_score(y_test, y_pred))"
   ]
  },
  {
   "cell_type": "code",
   "execution_count": 14,
   "metadata": {},
   "outputs": [
    {
     "name": "stdout",
     "output_type": "stream",
     "text": [
      "The K Nearest Neighbors Classifier AP Score is:  0.5167295069730521\n"
     ]
    }
   ],
   "source": [
    "print(\"The K Nearest Neighbors Classifier AP Score is: \", average_precision_score(y_test, y_pred))"
   ]
  },
  {
   "cell_type": "code",
   "execution_count": 15,
   "metadata": {},
   "outputs": [
    {
     "name": "stdout",
     "output_type": "stream",
     "text": [
      "Number of Bernouolli Naive Bayes mislabeled points out of a total 35601 points : 4\n"
     ]
    }
   ],
   "source": [
    "### Bernoulli Naive Bayes\n",
    "\n",
    "from sklearn.naive_bayes import BernoulliNB\n",
    "bnb = BernoulliNB()\n",
    "y_pred = bnb.fit(X_train, y_train).predict(X_test)\n",
    "print(\"Number of Bernouolli Naive Bayes mislabeled points out of a total %d points : %d\" % (X_test.shape[0], (y_test != y_pred).sum()))\n",
    "precision, recall, thresholds = precision_recall_curve(y_test, y_pred)"
   ]
  },
  {
   "cell_type": "code",
   "execution_count": 16,
   "metadata": {},
   "outputs": [
    {
     "data": {
      "image/png": "[encoded data removed]",
      "text/plain": [
       "<Figure size 432x288 with 1 Axes>"
      ]
     },
     "metadata": {
      "needs_background": "light"
     },
     "output_type": "display_data"
    },
    {
     "data": {
      "text/plain": [
       "<Figure size 432x288 with 0 Axes>"
      ]
     },
     "metadata": {},
     "output_type": "display_data"
    }
   ],
   "source": [
    "bnbplot = plt.title(\"Bernouolli Naive Bayes\")\n",
    "bnbplot = plt.xlabel(\"Specificity\")\n",
    "bnbplot = plt.ylabel(\"Sensitivity\")\n",
    "bnbroc = roc_auc_score(y_test, y_pred)\n",
    "bnbplot = plt.text(0.1, 0.1, \"The AUC Score is {}\".format(bnbroc))\n",
    "bnbplot = plt.plot (precision, recall)\n",
    "bnbplot = plt.figure()"
   ]
  },
  {
   "cell_type": "code",
   "execution_count": 17,
   "metadata": {},
   "outputs": [
    {
     "name": "stdout",
     "output_type": "stream",
     "text": [
      "The Bernouolli Naive Bayes ROC AUC Score is:  0.9701492537313433\n"
     ]
    }
   ],
   "source": [
    "print(\"The Bernouolli Naive Bayes ROC AUC Score is: \", roc_auc_score(y_test, y_pred))"
   ]
  },
  {
   "cell_type": "code",
   "execution_count": 18,
   "metadata": {},
   "outputs": [
    {
     "name": "stdout",
     "output_type": "stream",
     "text": [
      "The Bernouolli Naive Bayes AP Score is:  0.9404108638571699\n"
     ]
    }
   ],
   "source": [
    "print(\"The Bernouolli Naive Bayes AP Score is: \", average_precision_score(y_test, y_pred))"
   ]
  },
  {
   "cell_type": "code",
   "execution_count": 19,
   "metadata": {},
   "outputs": [
    {
     "name": "stdout",
     "output_type": "stream",
     "text": [
      "Number of Random Forest Classifier mislabeled points out of a total 35601 points : 17\n"
     ]
    }
   ],
   "source": [
    "### Random Forest Classifier\n",
    "\n",
    "from sklearn.ensemble import RandomForestClassifier\n",
    "rfc = RandomForestClassifier(max_depth = 2, random_state = 0)\n",
    "y_pred = rfc.fit(X_train, y_train).predict(X_test)\n",
    "print(\"Number of Random Forest Classifier mislabeled points out of a total %d points : %d\" % (X_test.shape[0], (y_test != y_pred).sum()))\n",
    "precision, recall, thresholds = precision_recall_curve(y_test, y_pred)"
   ]
  },
  {
   "cell_type": "code",
   "execution_count": 26,
   "metadata": {},
   "outputs": [
    {
     "data": {
      "image/png": "[encoded data removed]",
      "text/plain": [
       "<Figure size 432x288 with 1 Axes>"
      ]
     },
     "metadata": {
      "needs_background": "light"
     },
     "output_type": "display_data"
    },
    {
     "data": {
      "text/plain": [
       "<Figure size 432x288 with 0 Axes>"
      ]
     },
     "metadata": {},
     "output_type": "display_data"
    }
   ],
   "source": [
    "rfcplot = plt.title(\"Random Forest Classifier\")\n",
    "rfcplot = plt.xlabel(\"Specificity\")\n",
    "rfcplot = plt.ylabel(\"Sensitivity\")\n",
    "rfcroc = roc_auc_score(y_test, y_pred)\n",
    "rfcplot = plt.text(0.1, 0.1, \"The AUC Score is {}\".format(rfcroc))\n",
    "rfcplot = plt.plot (precision, recall)\n",
    "rfcplot = plt.figure()"
   ]
  },
  {
   "cell_type": "code",
   "execution_count": 21,
   "metadata": {},
   "outputs": [
    {
     "name": "stdout",
     "output_type": "stream",
     "text": [
      "The Random Forest Classifier ROC AUC Score is:  0.8731343283582089\n"
     ]
    }
   ],
   "source": [
    "print(\"The Random Forest Classifier ROC AUC Score is: \", roc_auc_score(y_test, y_pred))"
   ]
  },
  {
   "cell_type": "code",
   "execution_count": 22,
   "metadata": {},
   "outputs": [
    {
     "name": "stdout",
     "output_type": "stream",
     "text": [
      "The Random Forest Classifier AP Score is:  0.746746171392972\n"
     ]
    }
   ],
   "source": [
    "print(\"The Random Forest Classifier AP Score is: \", average_precision_score(y_test, y_pred))"
   ]
  },
  {
   "cell_type": "code",
   "execution_count": 23,
   "metadata": {},
   "outputs": [
    {
     "name": "stdout",
     "output_type": "stream",
     "text": [
      "Number of K-Means mislabeled points out of a total 35601 points : 697\n"
     ]
    }
   ],
   "source": [
    "### K-Means\n",
    "\n",
    "from sklearn.cluster import KMeans\n",
    "y_pred = KMeans(n_clusters=2, random_state=0).fit(X_train, y_train).predict(X_test)\n",
    "print(\"Number of K-Means mislabeled points out of a total %d points : %d\" % (X_test.shape[0], (y_test != y_pred).sum()))\n",
    "precision, recall, thresholds = precision_recall_curve(y_test, y_pred)"
   ]
  },
  {
   "cell_type": "code",
   "execution_count": 24,
   "metadata": {},
   "outputs": [
    {
     "data": {
      "image/png": "[encoded data removed]",
      "text/plain": [
       "<Figure size 432x288 with 1 Axes>"
      ]
     },
     "metadata": {
      "needs_background": "light"
     },
     "output_type": "display_data"
    },
    {
     "data": {
      "text/plain": [
       "<Figure size 432x288 with 0 Axes>"
      ]
     },
     "metadata": {},
     "output_type": "display_data"
    }
   ],
   "source": [
    "kmeanplot = plt.title(\"K-Means\")\n",
    "kmeanplot = plt.xlabel(\"Specificity\")\n",
    "kmeanplot = plt.ylabel(\"Sensitivity\")\n",
    "kmeanroc = roc_auc_score(y_test, y_pred)\n",
    "kmeanplot = plt.text(0.1, 0.1, \"The AUC Score is {}\".format(kmeanroc))\n",
    "kmeanplot = plt.plot (precision, recall)\n",
    "kmeanplot = plt.figure()"
   ]
  },
  {
   "cell_type": "code",
   "execution_count": 25,
   "metadata": {},
   "outputs": [
    {
     "name": "stdout",
     "output_type": "stream",
     "text": [
      "The K-Means ROC AUC Score is:  0.5060324818189684\n"
     ]
    }
   ],
   "source": [
    "print(\"The K-Means ROC AUC Score is: \", roc_auc_score(y_test, y_pred))"
   ]
  },
  {
   "cell_type": "code",
   "execution_count": 26,
   "metadata": {},
   "outputs": [
    {
     "name": "stdout",
     "output_type": "stream",
     "text": [
      "The K-Means AP Score is:  0.0019199578023683316\n"
     ]
    }
   ],
   "source": [
    "print(\"The K-Means AP Score is: \", average_precision_score(y_test, y_pred))"
   ]
  },
  {
   "cell_type": "code",
   "execution_count": 27,
   "metadata": {},
   "outputs": [
    {
     "name": "stdout",
     "output_type": "stream",
     "text": [
      "Number of Support Vector Machine mislabeled points out of a total 35601 points : 58\n"
     ]
    }
   ],
   "source": [
    "### Support Vector Machine\n",
    "\n",
    "from sklearn import svm\n",
    "svmmodel = svm.SVC()\n",
    "y_pred = svmmodel.fit(X_train, y_train).predict(X_test)\n",
    "print(\"Number of Support Vector Machine mislabeled points out of a total %d points : %d\" % (X_test.shape[0], (y_test != y_pred).sum()))\n",
    "precision, recall, thresholds = precision_recall_curve(y_test, y_pred)"
   ]
  },
  {
   "cell_type": "code",
   "execution_count": 28,
   "metadata": {},
   "outputs": [
    {
     "data": {
      "image/png": "[encoded data removed]",
      "text/plain": [
       "<Figure size 432x288 with 1 Axes>"
      ]
     },
     "metadata": {
      "needs_background": "light"
     },
     "output_type": "display_data"
    },
    {
     "data": {
      "text/plain": [
       "<Figure size 432x288 with 0 Axes>"
      ]
     },
     "metadata": {},
     "output_type": "display_data"
    }
   ],
   "source": [
    "svmmodelplot = plt.title(\"Support Vector Machine\")\n",
    "svmmodelplot = plt.xlabel(\"Specificity\")\n",
    "svmmodelplot = plt.ylabel(\"Sensitivity\")\n",
    "svmmodelroc = roc_auc_score(y_test, y_pred)\n",
    "svmmodelplot = plt.text(0.1, 0.1, \"The AUC Score is {}\".format(svmmodelroc))\n",
    "svmmodelplot = plt.plot (precision, recall)\n",
    "svmmodelplot = plt.figure()"
   ]
  },
  {
   "cell_type": "code",
   "execution_count": 29,
   "metadata": {},
   "outputs": [
    {
     "name": "stdout",
     "output_type": "stream",
     "text": [
      "The Support Vector Machine ROC AUC Score is:  0.6416503344704966\n"
     ]
    }
   ],
   "source": [
    "print(\"The Support Vector Machine ROC AUC Score is: \", roc_auc_score(y_test, y_pred))"
   ]
  },
  {
   "cell_type": "code",
   "execution_count": 30,
   "metadata": {},
   "outputs": [
    {
     "name": "stdout",
     "output_type": "stream",
     "text": [
      "The Support Vector Machine AP Score is:  0.18714343885423193\n"
     ]
    }
   ],
   "source": [
    "print(\"The Support Vector Machine AP Score is: \", average_precision_score(y_test, y_pred))"
   ]
  },
  {
   "cell_type": "code",
   "execution_count": 27,
   "metadata": {},
   "outputs": [
    {
     "name": "stdout",
     "output_type": "stream",
     "text": [
      "Number of Passive Aggressive Classifier mislabeled points out of a total 35601 points : 0\n"
     ]
    }
   ],
   "source": [
    "### Passive Aggressive Classifier\n",
    "\n",
    "from sklearn.linear_model import PassiveAggressiveClassifier\n",
    "pac = PassiveAggressiveClassifier(max_iter=1000, random_state=0, tol=1e-3)\n",
    "y_pred = pac.fit(X_train, y_train).predict(X_test)\n",
    "print(\"Number of Passive Aggressive Classifier mislabeled points out of a total %d points : %d\" % (X_test.shape[0], (y_test != y_pred).sum()))\n",
    "precision, recall, thresholds = precision_recall_curve(y_test, y_pred)"
   ]
  },
  {
   "cell_type": "code",
   "execution_count": 28,
   "metadata": {},
   "outputs": [
    {
     "data": {
      "image/png": "[encoded data removed]",
      "text/plain": [
       "<Figure size 432x288 with 1 Axes>"
      ]
     },
     "metadata": {
      "needs_background": "light"
     },
     "output_type": "display_data"
    },
    {
     "data": {
      "text/plain": [
       "<Figure size 432x288 with 0 Axes>"
      ]
     },
     "metadata": {},
     "output_type": "display_data"
    }
   ],
   "source": [
    "pacplot = plt.title(\"Passive Aggressive Classifier\")\n",
    "pacplot = plt.xlabel(\"Specificity\")\n",
    "pacplot = plt.ylabel(\"Sensitivity\")\n",
    "pacroc = roc_auc_score(y_test, y_pred)\n",
    "pacplot = plt.text(1, 1, \"The AUC Score is {}\".format(pacroc))\n",
    "pacplot = plt.plot (precision, recall)\n",
    "pacplot = plt.figure()"
   ]
  },
  {
   "cell_type": "code",
   "execution_count": 29,
   "metadata": {},
   "outputs": [
    {
     "name": "stdout",
     "output_type": "stream",
     "text": [
      "The Passive Aggressive Classifier ROC AUC Score is:  1.0\n"
     ]
    }
   ],
   "source": [
    "print(\"The Passive Aggressive Classifier ROC AUC Score is: \", roc_auc_score(y_test, y_pred))"
   ]
  },
  {
   "cell_type": "code",
   "execution_count": 30,
   "metadata": {},
   "outputs": [
    {
     "name": "stdout",
     "output_type": "stream",
     "text": [
      "The Passive Aggressive Classifier AP Score is:  1.0\n"
     ]
    }
   ],
   "source": [
    "print(\"The Passive Aggressive Classifier AP Score is: \", average_precision_score(y_test, y_pred))"
   ]
  },
  {
   "cell_type": "code",
   "execution_count": 31,
   "metadata": {},
   "outputs": [
    {
     "name": "stdout",
     "output_type": "stream",
     "text": [
      "Number of Perceptron mislabeled points out of a total 35601 points : 32\n"
     ]
    }
   ],
   "source": [
    "### Perceptron\n",
    "\n",
    "from sklearn.linear_model import Perceptron\n",
    "per = Perceptron(tol=1e-3, random_state=0)\n",
    "y_pred = per.fit(X_train, y_train).predict(X_test)\n",
    "print(\"Number of Perceptron mislabeled points out of a total %d points : %d\" % (X_test.shape[0], (y_test != y_pred).sum()))\n",
    "precision, recall, thresholds = precision_recall_curve(y_test, y_pred)"
   ]
  },
  {
   "cell_type": "code",
   "execution_count": 32,
   "metadata": {},
   "outputs": [
    {
     "data": {
      "image/png": "[encoded data removed]",
      "text/plain": [
       "<Figure size 432x288 with 1 Axes>"
      ]
     },
     "metadata": {
      "needs_background": "light"
     },
     "output_type": "display_data"
    },
    {
     "data": {
      "text/plain": [
       "<Figure size 432x288 with 0 Axes>"
      ]
     },
     "metadata": {},
     "output_type": "display_data"
    }
   ],
   "source": [
    "perplot = plt.title(\"Perceptron\")\n",
    "perplot = plt.xlabel(\"Specificity\")\n",
    "perplot = plt.ylabel(\"Sensitivity\")\n",
    "perroc = roc_auc_score(y_test, y_pred)\n",
    "perplot = plt.text(0.1, 0.1, \"The AUC Score is {}\".format(perroc))\n",
    "perplot = plt.plot (precision, recall)\n",
    "perplot = plt.figure()"
   ]
  },
  {
   "cell_type": "code",
   "execution_count": 33,
   "metadata": {},
   "outputs": [
    {
     "name": "stdout",
     "output_type": "stream",
     "text": [
      "The Perceptron ROC AUC Score is:  0.9055297368202087\n"
     ]
    }
   ],
   "source": [
    "print(\"The Perceptron ROC AUC Score is: \", roc_auc_score(y_test, y_pred))"
   ]
  },
  {
   "cell_type": "code",
   "execution_count": 38,
   "metadata": {},
   "outputs": [
    {
     "name": "stdout",
     "output_type": "stream",
     "text": [
      "The Perceptron AP Score is:  0.4779209203833365\n"
     ]
    }
   ],
   "source": [
    "print(\"The Perceptron AP Score is: \", average_precision_score(y_test, y_pred))"
   ]
  },
  {
   "cell_type": "code",
   "execution_count": 40,
   "metadata": {},
   "outputs": [
    {
     "data": {
      "image/png": "[encoded data removed]",
      "text/plain": [
       "<Figure size 432x288 with 1 Axes>"
      ]
     },
     "metadata": {
      "needs_background": "light"
     },
     "output_type": "display_data"
    }
   ],
   "source": [
    "### Comparison Graph of all Classifiers\n",
    "\n",
    "plt.figure()\n",
    "\n",
    "knn = KNeighborsClassifier(n_neighbors=5, weights='distance')\n",
    "y_pred = knn.fit(X_train, y_train).predict(X_test)\n",
    "precision, recall, thresholds = precision_recall_curve(y_test, y_pred)\n",
    "\n",
    "plt.plot(precision, recall, label=\"KNeighborsClassifier\")\n",
    "\n",
    "bnb = BernoulliNB()\n",
    "y_pred = bnb.fit(X_train, y_train).predict(X_test)\n",
    "precision, recall, thresholds = precision_recall_curve(y_test, y_pred)\n",
    "\n",
    "plt.plot(precision, recall, label=\"Bernoulli Naive Bayes\")\n",
    "\n",
    "rfc = RandomForestClassifier(max_depth = 2, random_state = 0)\n",
    "y_pred = rfc.fit(X_train, y_train).predict(X_test)\n",
    "precision, recall, thresholds = precision_recall_curve(y_test, y_pred)\n",
    "\n",
    "plt.plot(precision, recall, label=\"RandomForestClassifier\")\n",
    "\n",
    "svmmodel = svm.SVC()\n",
    "y_pred = svmmodel.fit(X_train, y_train).predict(X_test)\n",
    "precision, recall, thresholds = precision_recall_curve(y_test, y_pred)\n",
    "\n",
    "plt.plot(precision, recall, label=\"SupporVectorMachine\")\n",
    "\n",
    "pac = PassiveAggressiveClassifier(max_iter=1000, random_state=0, tol=1e-3)\n",
    "y_pred = pac.fit(X_train, y_train).predict(X_test)\n",
    "precision, recall, thresholds = precision_recall_curve(y_test, y_pred)\n",
    "\n",
    "plt.plot(precision, recall, label=\"PassiveAggressiveClassifier\")\n",
    "\n",
    "per = Perceptron(tol=1e-3, random_state=0)\n",
    "y_pred = per.fit(X_train, y_train).predict(X_test)\n",
    "precision, recall, thresholds = precision_recall_curve(y_test, y_pred)\n",
    "\n",
    "plt.plot(precision, recall, label=\"Perceptron\")\n",
    "\n",
    "kmeans = KMeans(n_clusters=2, random_state=0)\n",
    "y_pred = kmeans.fit(X_train, y_train).predict(X_test)\n",
    "precision, recall, thresholds = precision_recall_curve(y_test, y_pred)\n",
    "\n",
    "plt.plot(precision, recall, label=\"KMeans\")\n",
    "\n",
    "plt.title(\"Comparisons of AUC Scores\")\n",
    "plt.xlabel(\"Specificity\")\n",
    "plt.ylabel(\"Sensitivity\")\n",
    "plt.legend(loc=\"lower left\")\n",
    "plt.show()"
   ]
  }
 ],
 "metadata": {
  "kernelspec": {
   "display_name": "Python 3",
   "language": "python",
   "name": "python3"
  },
  "language_info": {
   "codemirror_mode": {
    "name": "ipython",
    "version": 3
   },
   "file_extension": ".py",
   "mimetype": "text/x-python",
   "name": "python",
   "nbconvert_exporter": "python",
   "pygments_lexer": "ipython3",
   "version": "3.8.3"
  }
 },
 "nbformat": 4,
 "nbformat_minor": 4
}
