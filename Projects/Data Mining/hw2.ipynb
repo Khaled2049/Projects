{
 "cells": [
  {
   "cell_type": "code",
   "execution_count": 177,
   "metadata": {},
   "outputs": [],
   "source": [
    "\"\"\" \n",
    "Program: HW2_ID3.py\n",
    "Programmed By: Khaled Hossain\n",
    "Description: Homework - 2 the implementation of the ID3 algorithm\n",
    "\"\"\"\n",
    "\n",
    "\n",
    "import numpy as np\n",
    "import pandas as pd\n",
    "import pprint\n",
    "import random\n",
    "eps = np.finfo(float).eps\n",
    "from numpy import log2 as log"
   ]
  },
  {
   "cell_type": "code",
   "execution_count": 178,
   "metadata": {},
   "outputs": [],
   "source": [
    "training_data = [\n",
    "({'level':'Senior', 'lang':'Java', 'tweets':'no', 'phd':'no'}, False),\n",
    "({'level':'Senior', 'lang':'Java', 'tweets':'no', 'phd':'yes'}, False),\n",
    "({'level':'Mid', 'lang':'Python', 'tweets':'no', 'phd':'no'}, True),\n",
    "({'level':'Junior', 'lang':'Python', 'tweets':'no', 'phd':'no'}, True),\n",
    "({'level':'Junior', 'lang':'R', 'tweets':'yes', 'phd':'no'}, True),\n",
    "({'level':'Junior', 'lang':'R', 'tweets':'yes', 'phd':'yes'}, False),\n",
    "({'level':'Mid', 'lang':'R', 'tweets':'yes', 'phd':'yes'}, True),\n",
    "({'level':'Senior', 'lang':'Python', 'tweets':'no', 'phd':'no'}, False),\n",
    "({'level':'Senior', 'lang':'R', 'tweets':'yes', 'phd':'no'}, True),\n",
    "({'level':'Junior', 'lang':'Python', 'tweets':'yes', 'phd':'no'}, True),\n",
    "({'level':'Senior', 'lang':'Python', 'tweets':'yes', 'phd':'yes'}, True),\n",
    "({'level':'Mid', 'lang':'Python', 'tweets':'no', 'phd':'yes'}, True),\n",
    "({'level':'Mid', 'lang':'Java', 'tweets':'yes', 'phd':'no'}, True),\n",
    "({'level':'Junior', 'lang':'Python', 'tweets':'no', 'phd':'yes'}, False)\n",
    "] \n"
   ]
  },
  {
   "cell_type": "code",
   "execution_count": 179,
   "metadata": {
    "scrolled": false
   },
   "outputs": [
    {
     "data": {
      "text/html": [
       "<div>\n",
       "<style scoped>\n",
       "    .dataframe tbody tr th:only-of-type {\n",
       "        vertical-align: middle;\n",
       "    }\n",
       "\n",
       "    .dataframe tbody tr th {\n",
       "        vertical-align: top;\n",
       "    }\n",
       "\n",
       "    .dataframe thead th {\n",
       "        text-align: right;\n",
       "    }\n",
       "</style>\n",
       "<table border=\"1\" class=\"dataframe\">\n",
       "  <thead>\n",
       "    <tr style=\"text-align: right;\">\n",
       "      <th></th>\n",
       "      <th>level</th>\n",
       "      <th>lang</th>\n",
       "      <th>tweets</th>\n",
       "      <th>phd</th>\n",
       "      <th>hired</th>\n",
       "    </tr>\n",
       "  </thead>\n",
       "  <tbody>\n",
       "    <tr>\n",
       "      <th>0</th>\n",
       "      <td>Senior</td>\n",
       "      <td>Java</td>\n",
       "      <td>no</td>\n",
       "      <td>no</td>\n",
       "      <td>False</td>\n",
       "    </tr>\n",
       "    <tr>\n",
       "      <th>1</th>\n",
       "      <td>Senior</td>\n",
       "      <td>Java</td>\n",
       "      <td>no</td>\n",
       "      <td>yes</td>\n",
       "      <td>False</td>\n",
       "    </tr>\n",
       "    <tr>\n",
       "      <th>2</th>\n",
       "      <td>Mid</td>\n",
       "      <td>Python</td>\n",
       "      <td>no</td>\n",
       "      <td>no</td>\n",
       "      <td>True</td>\n",
       "    </tr>\n",
       "    <tr>\n",
       "      <th>3</th>\n",
       "      <td>Junior</td>\n",
       "      <td>Python</td>\n",
       "      <td>no</td>\n",
       "      <td>no</td>\n",
       "      <td>True</td>\n",
       "    </tr>\n",
       "    <tr>\n",
       "      <th>4</th>\n",
       "      <td>Junior</td>\n",
       "      <td>R</td>\n",
       "      <td>yes</td>\n",
       "      <td>no</td>\n",
       "      <td>True</td>\n",
       "    </tr>\n",
       "    <tr>\n",
       "      <th>5</th>\n",
       "      <td>Junior</td>\n",
       "      <td>R</td>\n",
       "      <td>yes</td>\n",
       "      <td>yes</td>\n",
       "      <td>False</td>\n",
       "    </tr>\n",
       "    <tr>\n",
       "      <th>6</th>\n",
       "      <td>Mid</td>\n",
       "      <td>R</td>\n",
       "      <td>yes</td>\n",
       "      <td>yes</td>\n",
       "      <td>True</td>\n",
       "    </tr>\n",
       "    <tr>\n",
       "      <th>7</th>\n",
       "      <td>Senior</td>\n",
       "      <td>Python</td>\n",
       "      <td>no</td>\n",
       "      <td>no</td>\n",
       "      <td>False</td>\n",
       "    </tr>\n",
       "    <tr>\n",
       "      <th>8</th>\n",
       "      <td>Senior</td>\n",
       "      <td>R</td>\n",
       "      <td>yes</td>\n",
       "      <td>no</td>\n",
       "      <td>True</td>\n",
       "    </tr>\n",
       "    <tr>\n",
       "      <th>9</th>\n",
       "      <td>Junior</td>\n",
       "      <td>Python</td>\n",
       "      <td>yes</td>\n",
       "      <td>no</td>\n",
       "      <td>True</td>\n",
       "    </tr>\n",
       "    <tr>\n",
       "      <th>10</th>\n",
       "      <td>Senior</td>\n",
       "      <td>Python</td>\n",
       "      <td>yes</td>\n",
       "      <td>yes</td>\n",
       "      <td>True</td>\n",
       "    </tr>\n",
       "    <tr>\n",
       "      <th>11</th>\n",
       "      <td>Mid</td>\n",
       "      <td>Python</td>\n",
       "      <td>no</td>\n",
       "      <td>yes</td>\n",
       "      <td>True</td>\n",
       "    </tr>\n",
       "    <tr>\n",
       "      <th>12</th>\n",
       "      <td>Mid</td>\n",
       "      <td>Java</td>\n",
       "      <td>yes</td>\n",
       "      <td>no</td>\n",
       "      <td>True</td>\n",
       "    </tr>\n",
       "    <tr>\n",
       "      <th>13</th>\n",
       "      <td>Junior</td>\n",
       "      <td>Python</td>\n",
       "      <td>no</td>\n",
       "      <td>yes</td>\n",
       "      <td>False</td>\n",
       "    </tr>\n",
       "  </tbody>\n",
       "</table>\n",
       "</div>"
      ],
      "text/plain": [
       "     level    lang tweets  phd  hired\n",
       "0   Senior    Java     no   no  False\n",
       "1   Senior    Java     no  yes  False\n",
       "2      Mid  Python     no   no   True\n",
       "3   Junior  Python     no   no   True\n",
       "4   Junior       R    yes   no   True\n",
       "5   Junior       R    yes  yes  False\n",
       "6      Mid       R    yes  yes   True\n",
       "7   Senior  Python     no   no  False\n",
       "8   Senior       R    yes   no   True\n",
       "9   Junior  Python    yes   no   True\n",
       "10  Senior  Python    yes  yes   True\n",
       "11     Mid  Python     no  yes   True\n",
       "12     Mid    Java    yes   no   True\n",
       "13  Junior  Python     no  yes  False"
      ]
     },
     "execution_count": 179,
     "metadata": {},
     "output_type": "execute_result"
    }
   ],
   "source": [
    "level = []\n",
    "lang = []\n",
    "tweets = []\n",
    "phd = []\n",
    "hired = []\n",
    "\n",
    "for stats, data in training_data:\n",
    "    level.append(list(stats.values())[0])\n",
    "    lang.append(list(stats.values())[1])\n",
    "    tweets.append(list(stats.values())[2])\n",
    "    phd.append((list(stats.values())[3]))\n",
    "    hired.append(data)\n",
    "\n",
    "dataSet = {'level' : level, 'lang' : lang, 'tweets': tweets, 'phd' : phd, 'hired' : hired}\n",
    "df = pd.DataFrame(dataSet, columns = ['level', 'lang', 'tweets', 'phd', 'hired'])\n",
    "df"
   ]
  },
  {
   "cell_type": "code",
   "execution_count": 180,
   "metadata": {},
   "outputs": [],
   "source": [
    "def find_entropy(df):\n",
    "    label = df.keys()[-1]   \n",
    "    entropy = 0                                     # Initialize entropy \n",
    "    values = df[label].unique()                     # Gets the unique objects 'Yes', 'No'\n",
    "    for value in values:\n",
    "        fraction = df[label].value_counts()[value]/len(df[label])\n",
    "        entropy += -fraction*np.log2(fraction)\n",
    "    return entropy\n",
    "\n",
    "\n",
    "# Calculates entropy of each attribute\n",
    "def find_entropy_attribute(df,attribute):\n",
    "    label = df.keys()[-1]   \n",
    "    target_variables = df[label].unique()  # Outputs all 'Yes' and 'No'\n",
    "    variables = df[attribute].unique()     # Shows different features (Junior, Mid, Senior)\n",
    "    entropy_each_feature = 0\n",
    "    for variable in variables:\n",
    "        entropy = 0\n",
    "        for target_variable in target_variables:\n",
    "            num = len(df[attribute][df[attribute]==variable][df[label] ==target_variable])\n",
    "            den = len(df[attribute][df[attribute]==variable])\n",
    "            fraction = num/(den+eps)\n",
    "            entropy += -fraction*log(fraction+eps)\n",
    "        fraction2 = den/len(df)\n",
    "        entropy_each_feature += -fraction2*entropy           \n",
    "    return abs(entropy_each_feature)\n",
    "\n",
    "\n",
    "def info_gain(df):\n",
    "    Entropy_att = []\n",
    "    IG = []\n",
    "    for key in df.keys()[:-1]:\n",
    "        IG.append(find_entropy(df)-find_entropy_attribute(df,key))\n",
    "    return df.keys()[:-1][np.argmax(IG)]\n",
    "\n",
    "\n",
    "def get_subtree(df, node,value):\n",
    "    return df[df[node] == value].reset_index(drop=True)\n",
    "\n",
    "\n",
    "def buildTree(df, tree=None): \n",
    "    label = df.keys()[-1]  \n",
    "    \n",
    "    node = info_gain(df) # Get value of max Info Gain\n",
    "    attValue = np.unique(df[node])\n",
    "    if tree is None:                    \n",
    "        tree={}\n",
    "        tree[node] = {}\n",
    "\n",
    "\n",
    "    for value in attValue:\n",
    "        subtable = get_subtree(df,node,value)\n",
    "        clValue,counts = np.unique(subtable['hired'],return_counts=True)                        \n",
    "        \n",
    "        #First we Check the purity of subset if it's pure it stops\n",
    "        if len(counts)==1:                             \n",
    "            tree[node][value] = clValue[0]                                                    \n",
    "        else:        \n",
    "            tree[node][value] = buildTree(subtable) \n",
    "\n",
    "    return tree"
   ]
  },
  {
   "cell_type": "code",
   "execution_count": 181,
   "metadata": {},
   "outputs": [],
   "source": [
    "testData = ({\"level\" : \"Junior\",\"lang\" : \"Java\",\"tweets\" : \"yes\",\"phd\" : \"no\"})\n",
    "def classify(query,tree,default = None):\n",
    "    \n",
    "    for key in list(query.keys()):             # loop through level, langm tweets and phd\n",
    "        if key in list(tree.keys()):\n",
    "            try:\n",
    "                result = tree[key][query[key]] \n",
    "            except:\n",
    "                return default\n",
    "            result = tree[key][query[key]]\n",
    "            # we start at the root node and go down the tree comparing the query to the values of the node\n",
    "            # keep going until I get to a leaf node. \n",
    "            if isinstance(result,dict):      \n",
    "                return classify(query,result)\n",
    "\n",
    "            else:\n",
    "                return result"
   ]
  },
  {
   "cell_type": "code",
   "execution_count": 182,
   "metadata": {},
   "outputs": [
    {
     "name": "stdout",
     "output_type": "stream",
     "text": [
      "{'level': {'Junior': {'phd': {'no': True, 'yes': False}},\n",
      "           'Mid': True,\n",
      "           'Senior': {'tweets': {'no': False, 'yes': True}}}}\n"
     ]
    }
   ],
   "source": [
    "t = buildTree(df)\n",
    "pprint.pprint(t)"
   ]
  },
  {
   "cell_type": "code",
   "execution_count": 183,
   "metadata": {},
   "outputs": [
    {
     "name": "stdout",
     "output_type": "stream",
     "text": [
      "{'level': {'Junior': {'phd': {'no': True, 'yes': False}},\n",
      "           'Mid': True,\n",
      "           'Senior': {'tweets': {'no': False, 'yes': True}}}}\n"
     ]
    }
   ],
   "source": [
    "# handeling missing data \n",
    "sample_data = {\"level\": \"intern\", \"lang\": None, \"tweets\" : None, \"phd\": None}\n",
    "df.append(sample_data, ignore_index=True)\n",
    "t = buildTree(df)\n",
    "pprint.pprint(t)\n"
   ]
  },
  {
   "cell_type": "code",
   "execution_count": 184,
   "metadata": {},
   "outputs": [
    {
     "data": {
      "text/plain": [
       "False"
      ]
     },
     "execution_count": 184,
     "metadata": {},
     "output_type": "execute_result"
    }
   ],
   "source": [
    "# tree = ID3(training_data,training_data,training_data.columns[:-1])\n",
    "# pprint(tree)\n",
    "data1 = {\"level\" : \"Junior\",\"lang\" : \"Java\",\"tweets\" : \"yes\",\"phd\" : \"no\"} \n",
    "data2 = {\"level\" : \"Junior\",\"lang\" : \"Java\",\"tweets\" : \"yes\",\"phd\" : \"yes\"} \n",
    "classify(data2, t)\n"
   ]
  },
  {
   "cell_type": "code",
   "execution_count": 185,
   "metadata": {},
   "outputs": [
    {
     "data": {
      "text/plain": [
       "True"
      ]
     },
     "execution_count": 185,
     "metadata": {},
     "output_type": "execute_result"
    }
   ],
   "source": [
    "classify(data1, t)"
   ]
  },
  {
   "cell_type": "code",
   "execution_count": 186,
   "metadata": {
    "scrolled": true
   },
   "outputs": [
    {
     "data": {
      "text/html": [
       "<div>\n",
       "<style scoped>\n",
       "    .dataframe tbody tr th:only-of-type {\n",
       "        vertical-align: middle;\n",
       "    }\n",
       "\n",
       "    .dataframe tbody tr th {\n",
       "        vertical-align: top;\n",
       "    }\n",
       "\n",
       "    .dataframe thead th {\n",
       "        text-align: right;\n",
       "    }\n",
       "</style>\n",
       "<table border=\"1\" class=\"dataframe\">\n",
       "  <thead>\n",
       "    <tr style=\"text-align: right;\">\n",
       "      <th></th>\n",
       "      <th>age</th>\n",
       "      <th>income</th>\n",
       "      <th>student</th>\n",
       "      <th>credit_rating</th>\n",
       "      <th>Buy_Computer</th>\n",
       "    </tr>\n",
       "  </thead>\n",
       "  <tbody>\n",
       "    <tr>\n",
       "      <th>0</th>\n",
       "      <td>youth</td>\n",
       "      <td>high</td>\n",
       "      <td>no</td>\n",
       "      <td>fair</td>\n",
       "      <td>no</td>\n",
       "    </tr>\n",
       "    <tr>\n",
       "      <th>1</th>\n",
       "      <td>youth</td>\n",
       "      <td>high</td>\n",
       "      <td>no</td>\n",
       "      <td>excellent</td>\n",
       "      <td>no</td>\n",
       "    </tr>\n",
       "    <tr>\n",
       "      <th>2</th>\n",
       "      <td>middle_age</td>\n",
       "      <td>high</td>\n",
       "      <td>no</td>\n",
       "      <td>fair</td>\n",
       "      <td>yes</td>\n",
       "    </tr>\n",
       "    <tr>\n",
       "      <th>3</th>\n",
       "      <td>senior</td>\n",
       "      <td>medium</td>\n",
       "      <td>no</td>\n",
       "      <td>fair</td>\n",
       "      <td>yes</td>\n",
       "    </tr>\n",
       "    <tr>\n",
       "      <th>4</th>\n",
       "      <td>senior</td>\n",
       "      <td>low</td>\n",
       "      <td>yes</td>\n",
       "      <td>fair</td>\n",
       "      <td>yes</td>\n",
       "    </tr>\n",
       "  </tbody>\n",
       "</table>\n",
       "</div>"
      ],
      "text/plain": [
       "          age  income student credit_rating Buy_Computer\n",
       "0       youth    high      no          fair           no\n",
       "1       youth    high      no     excellent           no\n",
       "2  middle_age    high      no          fair          yes\n",
       "3      senior  medium      no          fair          yes\n",
       "4      senior     low     yes          fair          yes"
      ]
     },
     "execution_count": 186,
     "metadata": {},
     "output_type": "execute_result"
    }
   ],
   "source": [
    "# real data set\n",
    "df1 = pd.read_csv(\"Buy_Computer.csv\")\n",
    "df1.drop(['id'], inplace = True, axis = 1)\n",
    "df1.head()\n"
   ]
  },
  {
   "cell_type": "code",
   "execution_count": 187,
   "metadata": {},
   "outputs": [],
   "source": [
    "def buildTree(df,tree=None): \n",
    "    label = df.keys()[-1]   \n",
    "\n",
    "    #Get attribute with maximum information gain\n",
    "    node = find_winner(df)\n",
    "    \n",
    "    attValue = np.unique(df[node])\n",
    "    \n",
    "    if tree is None:                    \n",
    "        tree={}\n",
    "        tree[node] = {}\n",
    "    \n",
    "    for value in attValue:\n",
    "        \n",
    "        subtree = get_subtree(df,node,value)\n",
    "        clValue,counts = np.unique(subtree['Buy_Computer'],return_counts=True)                        \n",
    "\n",
    "        #First we Check the purity of subset if it's pure it stops\n",
    "        if len(counts)==1:                  \n",
    "            tree[node][value] = clValue[0]                                                    \n",
    "        else:        \n",
    "            tree[node][value] = buildTree(subtree) \n",
    "                   \n",
    "    return tree"
   ]
  },
  {
   "cell_type": "code",
   "execution_count": 188,
   "metadata": {},
   "outputs": [
    {
     "name": "stdout",
     "output_type": "stream",
     "text": [
      "{'age': {'middle_age': 'yes',\n",
      "         'senior': {'credit_rating': {'excellent': 'no', 'fair': 'yes'}},\n",
      "         'youth': {'student': {'no': 'no', 'yes': 'yes'}}}}\n"
     ]
    }
   ],
   "source": [
    "tree = buildTree(df1)\n",
    "pprint.pprint(tree)"
   ]
  },
  {
   "cell_type": "code",
   "execution_count": 189,
   "metadata": {},
   "outputs": [
    {
     "data": {
      "text/plain": [
       "'no'"
      ]
     },
     "execution_count": 189,
     "metadata": {},
     "output_type": "execute_result"
    }
   ],
   "source": [
    "testData1 = {\"age\": 'senior', \"income\" : 'low', \"student\" : 'yes', \"credit_rating\": 'excellent'}\n",
    "testData2 = {\"age\": 'youth', \"income\" : 'low', \"student\" : 'yes', \"credit_rating\": 'fair'}\n",
    "classify(testData1, tree)\n"
   ]
  },
  {
   "cell_type": "code",
   "execution_count": 190,
   "metadata": {},
   "outputs": [
    {
     "data": {
      "text/plain": [
       "'yes'"
      ]
     },
     "execution_count": 190,
     "metadata": {},
     "output_type": "execute_result"
    }
   ],
   "source": [
    "classify(testData2, tree)"
   ]
  },
  {
   "cell_type": "code",
   "execution_count": null,
   "metadata": {},
   "outputs": [],
   "source": []
  }
 ],
 "metadata": {
  "kernelspec": {
   "display_name": "Python 3",
   "language": "python",
   "name": "python3"
  },
  "language_info": {
   "codemirror_mode": {
    "name": "ipython",
    "version": 3
   },
   "file_extension": ".py",
   "mimetype": "text/x-python",
   "name": "python",
   "nbconvert_exporter": "python",
   "pygments_lexer": "ipython3",
   "version": "3.8.3"
  }
 },
 "nbformat": 4,
 "nbformat_minor": 4
}
